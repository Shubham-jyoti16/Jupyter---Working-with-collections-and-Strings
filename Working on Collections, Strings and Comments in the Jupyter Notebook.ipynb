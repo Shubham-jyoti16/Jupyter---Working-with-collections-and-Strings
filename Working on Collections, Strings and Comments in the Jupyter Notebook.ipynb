{
 "cells": [
  {
   "cell_type": "markdown",
   "id": "1bdbaaea",
   "metadata": {},
   "source": [
    "# Task 1"
   ]
  },
  {
   "cell_type": "code",
   "execution_count": 1,
   "id": "17bf4c5d",
   "metadata": {},
   "outputs": [
    {
     "name": "stdout",
     "output_type": "stream",
     "text": [
      "[20, 18, 16, 14, 12, 10]\n"
     ]
    }
   ],
   "source": [
    "even_list = list(range(10, 21, +2)) # Creating list of even numbers\n",
    "even_list.reverse() # using reverse() method to reverse the list\n",
    "print(even_list)"
   ]
  },
  {
   "cell_type": "markdown",
   "id": "3529a114",
   "metadata": {},
   "source": [
    "# Task 2"
   ]
  },
  {
   "cell_type": "code",
   "execution_count": 2,
   "id": "90909a0a",
   "metadata": {},
   "outputs": [
    {
     "name": "stdout",
     "output_type": "stream",
     "text": [
      "AlphaNumeric characters =  ['A', 'B', 'C', 'D', 'E', 'F', 'G', 'H', '1', '2', '3', '4', '5', '6', '7', '8']\n"
     ]
    }
   ],
   "source": [
    "# Creating list for the given data\n",
    "list1 = ['A', 'B', 'C', 'D', 'E', 'F', 'G', 'H', '1', '2', '3', '4', '5', '6', '7', '8', '<', '>', '|']\n",
    "# creating a new list \n",
    "# the for loop is used to iterate over each element in the list1.\n",
    "# isalum() function is used to check each character in the list\n",
    "alphanumeric_list = [char for char in list1 if str(char).isalnum()]\n",
    "\n",
    "# Answer 1\n",
    "print(\"AlphaNumeric characters = \", alphanumeric_list)\n"
   ]
  },
  {
   "cell_type": "code",
   "execution_count": 3,
   "id": "80cf181b",
   "metadata": {},
   "outputs": [
    {
     "name": "stdout",
     "output_type": "stream",
     "text": [
      "Alphabets:  ['A', 'B', 'C', 'D', 'E', 'F', 'G', 'H']\n",
      "Numbers:  ['1', '2', '3', '4', '5', '6', '7', '8']\n"
     ]
    }
   ],
   "source": [
    "# Answer 2\n",
    "# creating a new list \n",
    "# the for loop is used to iterate over each element in the alphanumeric_list.\n",
    "# isalpha() fucntion is used to check each character in the alphanumeric_list.\n",
    "alphabets_list = [char for char in alphanumeric_list if str(char).isalpha()]\n",
    "print(\"Alphabets: \", alphabets_list)\n",
    "\n",
    "# creating a new list \n",
    "# the for loop is used to iterate over each element in the alphanumeric_list.\n",
    "# isdigit() fucntion is used to check each character in the alphanumeric_list.\n",
    "numbers_list = [char for char in alphanumeric_list if str(char).isdigit()]\n",
    "print(\"Numbers: \", numbers_list)\n"
   ]
  },
  {
   "cell_type": "code",
   "execution_count": 4,
   "id": "2d120831",
   "metadata": {},
   "outputs": [
    {
     "name": "stdout",
     "output_type": "stream",
     "text": [
      "Alphabet list length =  8\n",
      "Number list length =  8\n"
     ]
    }
   ],
   "source": [
    "# Answer 3\n",
    "# len() function is used to get the length of alphabets_list and numbers_list\n",
    "print(\"Alphabet list length = \", len(alphabets_list))\n",
    "print(\"Number list length = \", len(numbers_list))"
   ]
  },
  {
   "cell_type": "markdown",
   "id": "fea12960",
   "metadata": {},
   "source": [
    "# Task 3"
   ]
  },
  {
   "cell_type": "code",
   "execution_count": 5,
   "id": "8c9f4027",
   "metadata": {},
   "outputs": [
    {
     "name": "stdout",
     "output_type": "stream",
     "text": [
      "The 2nd, 4th, and 7th ranked countries from the list: [['United Kingdom', 948], ['France', 874], ['Sweden', 661]]\n",
      "\n",
      "Number of medals earned by the top ranked country:  2980\n"
     ]
    }
   ],
   "source": [
    "# creating a list for country and medal data\n",
    "Top_Countries = [[\"United States\", 2980],\n",
    "[\"United Kingdom\", 948],\n",
    "[\"Germany\", 892],\n",
    "[\"France\", 874],\n",
    "[\"Italy\", 742],\n",
    "[\"China\", 696],\n",
    "[\"Sweden\", 661],\n",
    "[\"Australia\", 562],\n",
    "[\"Japan\", 555],\n",
    "[\"Russia\", 547]]\n",
    "\n",
    "\n",
    "# Answer a\n",
    "# getting the value from Top_Countries list using index\n",
    "ranked_Country = [Top_Countries[1], Top_Countries[3], Top_Countries[6]]\n",
    "print(\"The 2nd, 4th, and 7th ranked countries from the list:\", ranked_Country)\n",
    "\n",
    "# Answer b\n",
    "# accesing the medal value (second value) [1] using the index of the first country data [0].\n",
    "top_country_medals = Top_Countries[0][1]\n",
    "print(\"\\nNumber of medals earned by the top ranked country: \", top_country_medals)"
   ]
  },
  {
   "cell_type": "markdown",
   "id": "141b58d5",
   "metadata": {},
   "source": [
    "# Task 4"
   ]
  },
  {
   "cell_type": "code",
   "execution_count": 6,
   "id": "b871d004",
   "metadata": {},
   "outputs": [
    {
     "name": "stdout",
     "output_type": "stream",
     "text": [
      "Total medals earned by Germany =  892\n",
      "Total medals earned by Australia =  562\n",
      "Total medals earned by Japan =  555\n",
      "Total medals earned by Germany, Australia and Japan =  2009\n",
      "\n",
      "Difference between China and Japan's medals: 141\n"
     ]
    }
   ],
   "source": [
    "# Creating dictonary for country name and their medals\n",
    "dict1 = {country: medals for country, medals in Top_Countries}\n",
    "\n",
    "# Answer a\n",
    "# Getting the medal value associated with key Germany, Australia and Japan\n",
    "germany_medal = dict1[\"Germany\"]\n",
    "australia_medal = dict1[\"Australia\"]\n",
    "japan_medal = dict1[\"Japan\"]\n",
    "\n",
    "# displaying the result\n",
    "print(\"Total medals earned by Germany = \", germany_medal)\n",
    "print(\"Total medals earned by Australia = \", australia_medal)\n",
    "print(\"Total medals earned by Japan = \", japan_medal)\n",
    "\n",
    "# Adding all the medal for germany, australia and japan\n",
    "print (\"Total medals earned by Germany, Australia and Japan = \", germany_medal + australia_medal + japan_medal)\n",
    "\n",
    "# Answer b\n",
    "# Gettingt the medal value associated with China and Japan\n",
    "china_medal = dict1[\"China\"]\n",
    "japan_medal = dict1[\"Japan\"]\n",
    "\n",
    "# Substraction the medal value of japan from china\n",
    "print(\"\\nDifference between China and Japan's medals:\", china_medal - japan_medal)"
   ]
  },
  {
   "cell_type": "markdown",
   "id": "4870488b",
   "metadata": {},
   "source": [
    "# Task 5"
   ]
  },
  {
   "cell_type": "code",
   "execution_count": 7,
   "id": "4f5ff48c",
   "metadata": {},
   "outputs": [
    {
     "name": "stdout",
     "output_type": "stream",
     "text": [
      "The last 2 elements in the tuple =  Ward-Robe  and  Book-Shelf\n",
      "\n",
      "If CHAIR is an element of the tuple (Case-sensitive):  False\n"
     ]
    }
   ],
   "source": [
    "# Creating tuple with the given data\n",
    "tuple1 = (\"Table\", \"Chair\", \"Wall-Unit\", \"Book-Shelf\", \"Ward-Robe\")\n",
    "\n",
    "# Answer a\n",
    "# getting the last two tuple value using index\n",
    "# [-1] = last element\n",
    "# [-2] = second last element\n",
    "print(\"The last 2 elements in the tuple = \", tuple1[-1], \" and \", tuple1[-2])\n",
    "\n",
    "# Answer b\n",
    "N = \"CHAIR\"\n",
    "# using for loop to check the value of N in the tuple1 one by one\n",
    "Check = N in (element for element in tuple1)\n",
    "print(\"\\nIf CHAIR is an element of the tuple (Case-sensitive): \", Check)\n"
   ]
  },
  {
   "cell_type": "markdown",
   "id": "7b5fe022",
   "metadata": {},
   "source": [
    "# Task 6"
   ]
  },
  {
   "cell_type": "code",
   "execution_count": 8,
   "id": "950d8e6d",
   "metadata": {},
   "outputs": [
    {
     "name": "stdout",
     "output_type": "stream",
     "text": [
      "Above is a multi-line comment\n"
     ]
    }
   ],
   "source": [
    "\"\"\"\n",
    "Comments are written to explain the code. \n",
    "It calls out the approach or tricky logic used in the program. \n",
    "It is very useful if the code has to be maintained in future.\n",
    "\"\"\"\n",
    "print(\"Above is a multi-line comment\")\n"
   ]
  },
  {
   "cell_type": "markdown",
   "id": "ebaf1b47",
   "metadata": {},
   "source": [
    "# Task 7"
   ]
  },
  {
   "cell_type": "code",
   "execution_count": 9,
   "id": "e8017291",
   "metadata": {},
   "outputs": [
    {
     "name": "stdout",
     "output_type": "stream",
     "text": [
      "Mr. Sam gets a monthly salary of $3500. \n",
      "Considering a 10% tax deduction he has to pay an amount of $350 as tax.\n"
     ]
    }
   ],
   "source": [
    "# Answer a\n",
    "# Creating different variable to store the given value\n",
    "Salary = 3500\n",
    "Rate = 0.10 \n",
    "# Calculating the tax_value in 3rd variable\n",
    "tax_value = Salary * Rate\n",
    "\n",
    "# Answer b\n",
    "print(\"Mr. Sam gets a monthly salary of ${}. \\nConsidering a {:.0%} tax deduction he has to pay an amount of ${:.0f} as tax.\".format(Salary, Rate, tax_value))"
   ]
  },
  {
   "cell_type": "markdown",
   "id": "9b04c56a",
   "metadata": {},
   "source": [
    "# Task 8"
   ]
  },
  {
   "cell_type": "code",
   "execution_count": 10,
   "id": "8ccb1dc8",
   "metadata": {},
   "outputs": [
    {
     "name": "stdout",
     "output_type": "stream",
     "text": [
      "Sentence in Lower Case =  today you are you, that is truer than true. there is no one alive who is like you.\n",
      "\n",
      "The number of times the word you is used =  3\n",
      "\n",
      "Index of the first you in the sentence =  6\n"
     ]
    }
   ],
   "source": [
    "Sentence = \"Today you are You, that is truer than true. There is no one alive who is like You.\"\n",
    "\n",
    "# Answer a\n",
    "# using lower() method to convert sentence into lower case\n",
    "Sentence_low = Sentence.lower()\n",
    "print(\"Sentence in Lower Case = \", Sentence_low)\n",
    "\n",
    "# Answer b\n",
    "# using count() built in fucntion to count total you in senetece\n",
    "Count_you = Sentence_low.count(\"you\")\n",
    "print(\"\\nThe number of times the word you is used = \", Count_you )\n",
    "\n",
    "# Answer c\n",
    "# using find() built in fucntion to find first you in sentence\n",
    "index_you = Sentence_low.find(\"you\")\n",
    "print(\"\\nIndex of the first you in the sentence = \", index_you)"
   ]
  },
  {
   "cell_type": "markdown",
   "id": "942197db",
   "metadata": {},
   "source": [
    "# Task 9"
   ]
  },
  {
   "cell_type": "code",
   "execution_count": 11,
   "id": "4f088fa2",
   "metadata": {},
   "outputs": [
    {
     "name": "stdout",
     "output_type": "stream",
     "text": [
      "The number of words in the sentence =  13\n",
      "The position of the word which is numeric =  4\n",
      "The position of the word which is all in uppercase =  11\n"
     ]
    }
   ],
   "source": [
    "Sentence2 = \"Suzan's roll number is 2301 and she came up with a GREAT idea\"\n",
    "\n",
    "# using split() method to split sentence into words\n",
    "Sentence2_word = Sentence2.split()\n",
    "\n",
    "# Answer 1\n",
    "# using len() fucntion to count words in sentence\n",
    "print(\"The number of words in the sentence = \", len(Sentence2_word))\n",
    "\n",
    "# Answer 2\n",
    "# declaring variable\n",
    "numeric_index = ''\n",
    "uppercase_index = ''\n",
    "\n",
    "\"\"\"\n",
    "using for loop to iterate through each word in Sentence2_word.\n",
    "enumerate() has been used to keep track of the index.\n",
    "the loop checks if current word is numeric or not.\n",
    "if it is numeric it set the index.\n",
    "else it check of word is in upper case or not.\n",
    "if it is in upper case it set the index of it. \n",
    "\"\"\"\n",
    "for i, word in enumerate(Sentence2_word):\n",
    "    if word.isnumeric():\n",
    "        numeric_index = i\n",
    "    elif word.isupper():\n",
    "        uppercase_index = i\n",
    "\n",
    "# Displaying the result by calling the variable \n",
    "print(\"The position of the word which is numeric = \", numeric_index)\n",
    "print(\"The position of the word which is all in uppercase = \", uppercase_index)\n",
    "\n"
   ]
  },
  {
   "cell_type": "code",
   "execution_count": null,
   "id": "2ebed615",
   "metadata": {},
   "outputs": [],
   "source": []
  }
 ],
 "metadata": {
  "kernelspec": {
   "display_name": "Python 3 (ipykernel)",
   "language": "python",
   "name": "python3"
  },
  "language_info": {
   "codemirror_mode": {
    "name": "ipython",
    "version": 3
   },
   "file_extension": ".py",
   "mimetype": "text/x-python",
   "name": "python",
   "nbconvert_exporter": "python",
   "pygments_lexer": "ipython3",
   "version": "3.9.12"
  }
 },
 "nbformat": 4,
 "nbformat_minor": 5
}
